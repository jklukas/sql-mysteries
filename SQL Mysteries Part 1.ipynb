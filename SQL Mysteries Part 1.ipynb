{
 "cells": [
  {
   "cell_type": "markdown",
   "metadata": {},
   "source": [
    "<br><br><br><br>\n",
    "# Set up the environment"
   ]
  },
  {
   "cell_type": "code",
   "execution_count": 1,
   "metadata": {},
   "outputs": [],
   "source": [
    "%load_ext sql"
   ]
  },
  {
   "cell_type": "code",
   "execution_count": 2,
   "metadata": {},
   "outputs": [
    {
     "name": "stdout",
     "output_type": "stream",
     "text": [
      "1 rows affected.\n"
     ]
    },
    {
     "data": {
      "text/html": [
       "<table>\n",
       "    <tr>\n",
       "        <th>message</th>\n",
       "    </tr>\n",
       "    <tr>\n",
       "        <td>hi there</td>\n",
       "    </tr>\n",
       "</table>"
      ],
      "text/plain": [
       "[('hi there',)]"
      ]
     },
     "execution_count": 2,
     "metadata": {},
     "output_type": "execute_result"
    }
   ],
   "source": [
    "%%sql postgresql://postgres@localhost/postgres\n",
    "\n",
    "select 'hi there' as \"message\";"
   ]
  },
  {
   "cell_type": "markdown",
   "metadata": {},
   "source": [
    "<br><br><br><br>\n",
    "# Define the schema and data"
   ]
  },
  {
   "cell_type": "markdown",
   "metadata": {},
   "source": [
    "We define a `transactions` table to track financial transactions and a history table for capturing all changes made."
   ]
  },
  {
   "cell_type": "code",
   "execution_count": 3,
   "metadata": {},
   "outputs": [
    {
     "name": "stdout",
     "output_type": "stream",
     "text": [
      " * postgresql://postgres@localhost/postgres\n",
      "Done.\n",
      "Done.\n",
      "Done.\n",
      "Done.\n"
     ]
    },
    {
     "data": {
      "text/plain": [
       "[]"
      ]
     },
     "execution_count": 3,
     "metadata": {},
     "output_type": "execute_result"
    }
   ],
   "source": [
    "%%sql\n",
    "\n",
    "drop table if exists transactions;\n",
    "\n",
    "create table transactions (\n",
    "    transaction_id serial primary key,\n",
    "    user_id        text,\n",
    "    merchant       text,\n",
    "    amount         numeric,\n",
    "    when_created   timestamp\n",
    ");\n",
    "\n",
    "drop table if exists transactions_history;\n",
    "\n",
    "create table transactions_history (\n",
    "    operation char(6) not null,\n",
    "    when_modified  timestamp not null,\n",
    "    transaction_id int,\n",
    "    user_id        text,\n",
    "    merchant       text,\n",
    "    amount         numeric,\n",
    "    when_created   timestamp\n",
    ");"
   ]
  },
  {
   "cell_type": "markdown",
   "metadata": {},
   "source": [
    "Now, we define a PostgreSQL trigger to populate the history table. Don't worry about the details here; they're beyond the scope of this talk."
   ]
  },
  {
   "cell_type": "code",
   "execution_count": 4,
   "metadata": {},
   "outputs": [
    {
     "name": "stdout",
     "output_type": "stream",
     "text": [
      " * postgresql://postgres@localhost/postgres\n",
      "Done.\n",
      "Done.\n",
      "Done.\n"
     ]
    },
    {
     "data": {
      "text/plain": [
       "[]"
      ]
     },
     "execution_count": 4,
     "metadata": {},
     "output_type": "execute_result"
    }
   ],
   "source": [
    "%%sql\n",
    "\n",
    "CREATE OR REPLACE FUNCTION capture_transactions_history() RETURNS TRIGGER AS $transactions_history$\n",
    "    BEGIN\n",
    "        IF (TG_OP = 'DELETE') THEN\n",
    "            INSERT INTO transactions_history SELECT 'delete', now(), OLD.*;\n",
    "            RETURN OLD;\n",
    "        ELSIF (TG_OP = 'UPDATE') THEN\n",
    "            INSERT INTO transactions_history SELECT 'update', now(), NEW.*;\n",
    "            RETURN NEW;\n",
    "        ELSIF (TG_OP = 'INSERT') THEN\n",
    "            INSERT INTO transactions_history SELECT 'insert', now(), NEW.*;\n",
    "            RETURN NEW;\n",
    "        END IF;\n",
    "        RETURN NULL; -- result is ignored since this is an AFTER trigger\n",
    "    END;\n",
    "$transactions_history$ LANGUAGE plpgsql;\n",
    "\n",
    "DROP TRIGGER IF EXISTS transactions_history ON users;\n",
    "CREATE TRIGGER transactions_history\n",
    "AFTER INSERT OR UPDATE OR DELETE ON transactions\n",
    "    FOR EACH ROW EXECUTE PROCEDURE capture_transactions_history();"
   ]
  },
  {
   "cell_type": "markdown",
   "metadata": {},
   "source": [
    "Let's populate our table with data for two customers:"
   ]
  },
  {
   "cell_type": "code",
   "execution_count": 5,
   "metadata": {},
   "outputs": [
    {
     "name": "stdout",
     "output_type": "stream",
     "text": [
      " * postgresql://postgres@localhost/postgres\n",
      "0 rows affected.\n",
      "6 rows affected.\n"
     ]
    },
    {
     "data": {
      "text/plain": [
       "[]"
      ]
     },
     "execution_count": 5,
     "metadata": {},
     "output_type": "execute_result"
    }
   ],
   "source": [
    "%%sql\n",
    "\n",
    "delete from transactions;\n",
    "insert into transactions (user_id, merchant, amount, when_created) values \n",
    "  ('jane', 'BP', 43.22, '2018-01-01 10:00'),\n",
    "  ('jane', 'Magic Mountain', 24.11, '2018-01-01 14:30'),\n",
    "  ('jane', 'Target', 2.00, '2018-01-01 10:30'),\n",
    "  ('jill', 'Starbucks', 4.39, '2018-01-03 06:11'),\n",
    "  ('jill', 'COTA', 20.00, '2018-01-03 06:15'),\n",
    "  ('jill', 'Jeni Ice Cream', 7.23, '2018-01-04 15:12');"
   ]
  },
  {
   "cell_type": "markdown",
   "metadata": {},
   "source": [
    "Let's see how the table looks:"
   ]
  },
  {
   "cell_type": "code",
   "execution_count": 6,
   "metadata": {},
   "outputs": [
    {
     "name": "stdout",
     "output_type": "stream",
     "text": [
      " * postgresql://postgres@localhost/postgres\n",
      "6 rows affected.\n"
     ]
    },
    {
     "data": {
      "text/html": [
       "<table>\n",
       "    <tr>\n",
       "        <th>transaction_id</th>\n",
       "        <th>user_id</th>\n",
       "        <th>merchant</th>\n",
       "        <th>amount</th>\n",
       "        <th>when_created</th>\n",
       "    </tr>\n",
       "    <tr>\n",
       "        <td>1</td>\n",
       "        <td>jane</td>\n",
       "        <td>BP</td>\n",
       "        <td>43.22</td>\n",
       "        <td>2018-01-01 10:00:00</td>\n",
       "    </tr>\n",
       "    <tr>\n",
       "        <td>2</td>\n",
       "        <td>jane</td>\n",
       "        <td>Magic Mountain</td>\n",
       "        <td>24.11</td>\n",
       "        <td>2018-01-01 14:30:00</td>\n",
       "    </tr>\n",
       "    <tr>\n",
       "        <td>3</td>\n",
       "        <td>jane</td>\n",
       "        <td>Target</td>\n",
       "        <td>2.00</td>\n",
       "        <td>2018-01-01 10:30:00</td>\n",
       "    </tr>\n",
       "    <tr>\n",
       "        <td>4</td>\n",
       "        <td>jill</td>\n",
       "        <td>Starbucks</td>\n",
       "        <td>4.39</td>\n",
       "        <td>2018-01-03 06:11:00</td>\n",
       "    </tr>\n",
       "    <tr>\n",
       "        <td>5</td>\n",
       "        <td>jill</td>\n",
       "        <td>COTA</td>\n",
       "        <td>20.00</td>\n",
       "        <td>2018-01-03 06:15:00</td>\n",
       "    </tr>\n",
       "    <tr>\n",
       "        <td>6</td>\n",
       "        <td>jill</td>\n",
       "        <td>Jeni Ice Cream</td>\n",
       "        <td>7.23</td>\n",
       "        <td>2018-01-04 15:12:00</td>\n",
       "    </tr>\n",
       "</table>"
      ],
      "text/plain": [
       "[(1, 'jane', 'BP', Decimal('43.22'), datetime.datetime(2018, 1, 1, 10, 0)),\n",
       " (2, 'jane', 'Magic Mountain', Decimal('24.11'), datetime.datetime(2018, 1, 1, 14, 30)),\n",
       " (3, 'jane', 'Target', Decimal('2.00'), datetime.datetime(2018, 1, 1, 10, 30)),\n",
       " (4, 'jill', 'Starbucks', Decimal('4.39'), datetime.datetime(2018, 1, 3, 6, 11)),\n",
       " (5, 'jill', 'COTA', Decimal('20.00'), datetime.datetime(2018, 1, 3, 6, 15)),\n",
       " (6, 'jill', 'Jeni Ice Cream', Decimal('7.23'), datetime.datetime(2018, 1, 4, 15, 12))]"
      ]
     },
     "execution_count": 6,
     "metadata": {},
     "output_type": "execute_result"
    }
   ],
   "source": [
    "%%sql\n",
    "\n",
    "select * from transactions;"
   ]
  },
  {
   "cell_type": "markdown",
   "metadata": {},
   "source": [
    "And the history table looks very similar at this point:"
   ]
  },
  {
   "cell_type": "code",
   "execution_count": 7,
   "metadata": {},
   "outputs": [
    {
     "name": "stdout",
     "output_type": "stream",
     "text": [
      " * postgresql://postgres@localhost/postgres\n",
      "6 rows affected.\n"
     ]
    },
    {
     "data": {
      "text/html": [
       "<table>\n",
       "    <tr>\n",
       "        <th>operation</th>\n",
       "        <th>when_modified</th>\n",
       "        <th>transaction_id</th>\n",
       "        <th>user_id</th>\n",
       "        <th>merchant</th>\n",
       "        <th>amount</th>\n",
       "        <th>when_created</th>\n",
       "    </tr>\n",
       "    <tr>\n",
       "        <td>insert</td>\n",
       "        <td>2018-10-25 16:52:28.392892</td>\n",
       "        <td>1</td>\n",
       "        <td>jane</td>\n",
       "        <td>BP</td>\n",
       "        <td>43.22</td>\n",
       "        <td>2018-01-01 10:00:00</td>\n",
       "    </tr>\n",
       "    <tr>\n",
       "        <td>insert</td>\n",
       "        <td>2018-10-25 16:52:28.392892</td>\n",
       "        <td>2</td>\n",
       "        <td>jane</td>\n",
       "        <td>Magic Mountain</td>\n",
       "        <td>24.11</td>\n",
       "        <td>2018-01-01 14:30:00</td>\n",
       "    </tr>\n",
       "    <tr>\n",
       "        <td>insert</td>\n",
       "        <td>2018-10-25 16:52:28.392892</td>\n",
       "        <td>3</td>\n",
       "        <td>jane</td>\n",
       "        <td>Target</td>\n",
       "        <td>2.00</td>\n",
       "        <td>2018-01-01 10:30:00</td>\n",
       "    </tr>\n",
       "    <tr>\n",
       "        <td>insert</td>\n",
       "        <td>2018-10-25 16:52:28.392892</td>\n",
       "        <td>4</td>\n",
       "        <td>jill</td>\n",
       "        <td>Starbucks</td>\n",
       "        <td>4.39</td>\n",
       "        <td>2018-01-03 06:11:00</td>\n",
       "    </tr>\n",
       "    <tr>\n",
       "        <td>insert</td>\n",
       "        <td>2018-10-25 16:52:28.392892</td>\n",
       "        <td>5</td>\n",
       "        <td>jill</td>\n",
       "        <td>COTA</td>\n",
       "        <td>20.00</td>\n",
       "        <td>2018-01-03 06:15:00</td>\n",
       "    </tr>\n",
       "    <tr>\n",
       "        <td>insert</td>\n",
       "        <td>2018-10-25 16:52:28.392892</td>\n",
       "        <td>6</td>\n",
       "        <td>jill</td>\n",
       "        <td>Jeni Ice Cream</td>\n",
       "        <td>7.23</td>\n",
       "        <td>2018-01-04 15:12:00</td>\n",
       "    </tr>\n",
       "</table>"
      ],
      "text/plain": [
       "[('insert', datetime.datetime(2018, 10, 25, 16, 52, 28, 392892), 1, 'jane', 'BP', Decimal('43.22'), datetime.datetime(2018, 1, 1, 10, 0)),\n",
       " ('insert', datetime.datetime(2018, 10, 25, 16, 52, 28, 392892), 2, 'jane', 'Magic Mountain', Decimal('24.11'), datetime.datetime(2018, 1, 1, 14, 30)),\n",
       " ('insert', datetime.datetime(2018, 10, 25, 16, 52, 28, 392892), 3, 'jane', 'Target', Decimal('2.00'), datetime.datetime(2018, 1, 1, 10, 30)),\n",
       " ('insert', datetime.datetime(2018, 10, 25, 16, 52, 28, 392892), 4, 'jill', 'Starbucks', Decimal('4.39'), datetime.datetime(2018, 1, 3, 6, 11)),\n",
       " ('insert', datetime.datetime(2018, 10, 25, 16, 52, 28, 392892), 5, 'jill', 'COTA', Decimal('20.00'), datetime.datetime(2018, 1, 3, 6, 15)),\n",
       " ('insert', datetime.datetime(2018, 10, 25, 16, 52, 28, 392892), 6, 'jill', 'Jeni Ice Cream', Decimal('7.23'), datetime.datetime(2018, 1, 4, 15, 12))]"
      ]
     },
     "execution_count": 7,
     "metadata": {},
     "output_type": "execute_result"
    }
   ],
   "source": [
    "%%sql\n",
    "\n",
    "select * from transactions_history;"
   ]
  },
  {
   "cell_type": "markdown",
   "metadata": {},
   "source": [
    "Now that we have a dataset, let's review the concepts around SQL aggregate functions and run some more interesting queries."
   ]
  },
  {
   "cell_type": "markdown",
   "metadata": {},
   "source": [
    "<br/><br/><br/><br/>\n",
    "\n",
    "# Aggregate functions (SUM, COUNT, etc.)"
   ]
  },
  {
   "cell_type": "markdown",
   "metadata": {},
   "source": [
    "We can use an aggregate function like SUM to aggregate over many rows, returning a single row defining the results. For example:"
   ]
  },
  {
   "cell_type": "code",
   "execution_count": 8,
   "metadata": {},
   "outputs": [
    {
     "name": "stdout",
     "output_type": "stream",
     "text": [
      " * postgresql://postgres@localhost/postgres\n",
      "1 rows affected.\n"
     ]
    },
    {
     "data": {
      "text/html": [
       "<table>\n",
       "    <tr>\n",
       "        <th>all_transactions_sum</th>\n",
       "    </tr>\n",
       "    <tr>\n",
       "        <td>100.95</td>\n",
       "    </tr>\n",
       "</table>"
      ],
      "text/plain": [
       "[(Decimal('100.95'),)]"
      ]
     },
     "execution_count": 8,
     "metadata": {},
     "output_type": "execute_result"
    }
   ],
   "source": [
    "%%sql\n",
    "\n",
    "select sum(amount) as all_transactions_sum \n",
    "from transactions;"
   ]
  },
  {
   "cell_type": "markdown",
   "metadata": {},
   "source": [
    "We can use GROUP BY to return multiple rows, each corresponding to a subset of the data:"
   ]
  },
  {
   "cell_type": "code",
   "execution_count": 9,
   "metadata": {},
   "outputs": [
    {
     "name": "stdout",
     "output_type": "stream",
     "text": [
      " * postgresql://postgres@localhost/postgres\n",
      "2 rows affected.\n"
     ]
    },
    {
     "data": {
      "text/html": [
       "<table>\n",
       "    <tr>\n",
       "        <th>user_id</th>\n",
       "        <th>per_user_sum</th>\n",
       "    </tr>\n",
       "    <tr>\n",
       "        <td>jill</td>\n",
       "        <td>31.62</td>\n",
       "    </tr>\n",
       "    <tr>\n",
       "        <td>jane</td>\n",
       "        <td>69.33</td>\n",
       "    </tr>\n",
       "</table>"
      ],
      "text/plain": [
       "[('jill', Decimal('31.62')), ('jane', Decimal('69.33'))]"
      ]
     },
     "execution_count": 9,
     "metadata": {},
     "output_type": "execute_result"
    }
   ],
   "source": [
    "%%sql\n",
    "\n",
    "select user_id, sum(amount) as per_user_sum\n",
    "from transactions \n",
    "group by user_id;"
   ]
  },
  {
   "cell_type": "markdown",
   "metadata": {},
   "source": [
    "And we can do more complex transformations by adding additional columns and ordering expressions:"
   ]
  },
  {
   "cell_type": "code",
   "execution_count": 10,
   "metadata": {},
   "outputs": [
    {
     "name": "stdout",
     "output_type": "stream",
     "text": [
      " * postgresql://postgres@localhost/postgres\n",
      "3 rows affected.\n"
     ]
    },
    {
     "data": {
      "text/html": [
       "<table>\n",
       "    <tr>\n",
       "        <th>user_id</th>\n",
       "        <th>when_created</th>\n",
       "        <th>per_user_day_sum</th>\n",
       "    </tr>\n",
       "    <tr>\n",
       "        <td>jane</td>\n",
       "        <td>2018-01-01</td>\n",
       "        <td>69.33</td>\n",
       "    </tr>\n",
       "    <tr>\n",
       "        <td>jill</td>\n",
       "        <td>2018-01-03</td>\n",
       "        <td>24.39</td>\n",
       "    </tr>\n",
       "    <tr>\n",
       "        <td>jill</td>\n",
       "        <td>2018-01-04</td>\n",
       "        <td>7.23</td>\n",
       "    </tr>\n",
       "</table>"
      ],
      "text/plain": [
       "[('jane', datetime.date(2018, 1, 1), Decimal('69.33')),\n",
       " ('jill', datetime.date(2018, 1, 3), Decimal('24.39')),\n",
       " ('jill', datetime.date(2018, 1, 4), Decimal('7.23'))]"
      ]
     },
     "execution_count": 10,
     "metadata": {},
     "output_type": "execute_result"
    }
   ],
   "source": [
    "%%sql\n",
    "\n",
    "select user_id, when_created::date, sum(amount) as per_user_day_sum\n",
    "from transactions \n",
    "group by 1, 2\n",
    "order by 1, 2;"
   ]
  },
  {
   "cell_type": "markdown",
   "metadata": {},
   "source": [
    "<br><br><br><br>\n",
    "# Window functions"
   ]
  },
  {
   "cell_type": "markdown",
   "metadata": {},
   "source": [
    "Window functions are related to aggregations, but they don't \"collapse\" rows in the same way. How does this compare to the non-windowed select sum(amount) from transactions we saw earlier?"
   ]
  },
  {
   "cell_type": "code",
   "execution_count": 11,
   "metadata": {},
   "outputs": [
    {
     "name": "stdout",
     "output_type": "stream",
     "text": [
      " * postgresql://postgres@localhost/postgres\n",
      "6 rows affected.\n"
     ]
    },
    {
     "data": {
      "text/html": [
       "<table>\n",
       "    <tr>\n",
       "        <th>all_transactions_sum</th>\n",
       "    </tr>\n",
       "    <tr>\n",
       "        <td>100.95</td>\n",
       "    </tr>\n",
       "    <tr>\n",
       "        <td>100.95</td>\n",
       "    </tr>\n",
       "    <tr>\n",
       "        <td>100.95</td>\n",
       "    </tr>\n",
       "    <tr>\n",
       "        <td>100.95</td>\n",
       "    </tr>\n",
       "    <tr>\n",
       "        <td>100.95</td>\n",
       "    </tr>\n",
       "    <tr>\n",
       "        <td>100.95</td>\n",
       "    </tr>\n",
       "</table>"
      ],
      "text/plain": [
       "[(Decimal('100.95'),),\n",
       " (Decimal('100.95'),),\n",
       " (Decimal('100.95'),),\n",
       " (Decimal('100.95'),),\n",
       " (Decimal('100.95'),),\n",
       " (Decimal('100.95'),)]"
      ]
     },
     "execution_count": 11,
     "metadata": {},
     "output_type": "execute_result"
    }
   ],
   "source": [
    "%%sql\n",
    "\n",
    "select sum(amount) over () as all_transactions_sum\n",
    "from transactions;"
   ]
  },
  {
   "cell_type": "markdown",
   "metadata": {},
   "source": [
    "Window functions allow us to put aggregates right alongside the contents of the original rows."
   ]
  },
  {
   "cell_type": "code",
   "execution_count": 12,
   "metadata": {},
   "outputs": [
    {
     "name": "stdout",
     "output_type": "stream",
     "text": [
      " * postgresql://postgres@localhost/postgres\n",
      "6 rows affected.\n"
     ]
    },
    {
     "data": {
      "text/html": [
       "<table>\n",
       "    <tr>\n",
       "        <th>transaction_id</th>\n",
       "        <th>user_id</th>\n",
       "        <th>merchant</th>\n",
       "        <th>amount</th>\n",
       "        <th>when_created</th>\n",
       "        <th>all_transactions_sum</th>\n",
       "    </tr>\n",
       "    <tr>\n",
       "        <td>1</td>\n",
       "        <td>jane</td>\n",
       "        <td>BP</td>\n",
       "        <td>43.22</td>\n",
       "        <td>2018-01-01 10:00:00</td>\n",
       "        <td>100.95</td>\n",
       "    </tr>\n",
       "    <tr>\n",
       "        <td>2</td>\n",
       "        <td>jane</td>\n",
       "        <td>Magic Mountain</td>\n",
       "        <td>24.11</td>\n",
       "        <td>2018-01-01 14:30:00</td>\n",
       "        <td>100.95</td>\n",
       "    </tr>\n",
       "    <tr>\n",
       "        <td>3</td>\n",
       "        <td>jane</td>\n",
       "        <td>Target</td>\n",
       "        <td>2.00</td>\n",
       "        <td>2018-01-01 10:30:00</td>\n",
       "        <td>100.95</td>\n",
       "    </tr>\n",
       "    <tr>\n",
       "        <td>4</td>\n",
       "        <td>jill</td>\n",
       "        <td>Starbucks</td>\n",
       "        <td>4.39</td>\n",
       "        <td>2018-01-03 06:11:00</td>\n",
       "        <td>100.95</td>\n",
       "    </tr>\n",
       "    <tr>\n",
       "        <td>5</td>\n",
       "        <td>jill</td>\n",
       "        <td>COTA</td>\n",
       "        <td>20.00</td>\n",
       "        <td>2018-01-03 06:15:00</td>\n",
       "        <td>100.95</td>\n",
       "    </tr>\n",
       "    <tr>\n",
       "        <td>6</td>\n",
       "        <td>jill</td>\n",
       "        <td>Jeni Ice Cream</td>\n",
       "        <td>7.23</td>\n",
       "        <td>2018-01-04 15:12:00</td>\n",
       "        <td>100.95</td>\n",
       "    </tr>\n",
       "</table>"
      ],
      "text/plain": [
       "[(1, 'jane', 'BP', Decimal('43.22'), datetime.datetime(2018, 1, 1, 10, 0), Decimal('100.95')),\n",
       " (2, 'jane', 'Magic Mountain', Decimal('24.11'), datetime.datetime(2018, 1, 1, 14, 30), Decimal('100.95')),\n",
       " (3, 'jane', 'Target', Decimal('2.00'), datetime.datetime(2018, 1, 1, 10, 30), Decimal('100.95')),\n",
       " (4, 'jill', 'Starbucks', Decimal('4.39'), datetime.datetime(2018, 1, 3, 6, 11), Decimal('100.95')),\n",
       " (5, 'jill', 'COTA', Decimal('20.00'), datetime.datetime(2018, 1, 3, 6, 15), Decimal('100.95')),\n",
       " (6, 'jill', 'Jeni Ice Cream', Decimal('7.23'), datetime.datetime(2018, 1, 4, 15, 12), Decimal('100.95'))]"
      ]
     },
     "execution_count": 12,
     "metadata": {},
     "output_type": "execute_result"
    }
   ],
   "source": [
    "%%sql\n",
    "\n",
    "select *, sum(amount) over () as all_transactions_sum\n",
    "from transactions;"
   ]
  },
  {
   "cell_type": "markdown",
   "metadata": {},
   "source": [
    "We can define windows over portions of the data, similar to GROUP BY for aggregates. But for window functions, these are called _partitions_:"
   ]
  },
  {
   "cell_type": "code",
   "execution_count": 13,
   "metadata": {},
   "outputs": [
    {
     "name": "stdout",
     "output_type": "stream",
     "text": [
      " * postgresql://postgres@localhost/postgres\n",
      "6 rows affected.\n"
     ]
    },
    {
     "data": {
      "text/html": [
       "<table>\n",
       "    <tr>\n",
       "        <th>transaction_id</th>\n",
       "        <th>user_id</th>\n",
       "        <th>merchant</th>\n",
       "        <th>amount</th>\n",
       "        <th>when_created</th>\n",
       "        <th>all_transactions_sum</th>\n",
       "        <th>user_sum</th>\n",
       "    </tr>\n",
       "    <tr>\n",
       "        <td>1</td>\n",
       "        <td>jane</td>\n",
       "        <td>BP</td>\n",
       "        <td>43.22</td>\n",
       "        <td>2018-01-01 10:00:00</td>\n",
       "        <td>100.95</td>\n",
       "        <td>69.33</td>\n",
       "    </tr>\n",
       "    <tr>\n",
       "        <td>2</td>\n",
       "        <td>jane</td>\n",
       "        <td>Magic Mountain</td>\n",
       "        <td>24.11</td>\n",
       "        <td>2018-01-01 14:30:00</td>\n",
       "        <td>100.95</td>\n",
       "        <td>69.33</td>\n",
       "    </tr>\n",
       "    <tr>\n",
       "        <td>3</td>\n",
       "        <td>jane</td>\n",
       "        <td>Target</td>\n",
       "        <td>2.00</td>\n",
       "        <td>2018-01-01 10:30:00</td>\n",
       "        <td>100.95</td>\n",
       "        <td>69.33</td>\n",
       "    </tr>\n",
       "    <tr>\n",
       "        <td>4</td>\n",
       "        <td>jill</td>\n",
       "        <td>Starbucks</td>\n",
       "        <td>4.39</td>\n",
       "        <td>2018-01-03 06:11:00</td>\n",
       "        <td>100.95</td>\n",
       "        <td>31.62</td>\n",
       "    </tr>\n",
       "    <tr>\n",
       "        <td>5</td>\n",
       "        <td>jill</td>\n",
       "        <td>COTA</td>\n",
       "        <td>20.00</td>\n",
       "        <td>2018-01-03 06:15:00</td>\n",
       "        <td>100.95</td>\n",
       "        <td>31.62</td>\n",
       "    </tr>\n",
       "    <tr>\n",
       "        <td>6</td>\n",
       "        <td>jill</td>\n",
       "        <td>Jeni Ice Cream</td>\n",
       "        <td>7.23</td>\n",
       "        <td>2018-01-04 15:12:00</td>\n",
       "        <td>100.95</td>\n",
       "        <td>31.62</td>\n",
       "    </tr>\n",
       "</table>"
      ],
      "text/plain": [
       "[(1, 'jane', 'BP', Decimal('43.22'), datetime.datetime(2018, 1, 1, 10, 0), Decimal('100.95'), Decimal('69.33')),\n",
       " (2, 'jane', 'Magic Mountain', Decimal('24.11'), datetime.datetime(2018, 1, 1, 14, 30), Decimal('100.95'), Decimal('69.33')),\n",
       " (3, 'jane', 'Target', Decimal('2.00'), datetime.datetime(2018, 1, 1, 10, 30), Decimal('100.95'), Decimal('69.33')),\n",
       " (4, 'jill', 'Starbucks', Decimal('4.39'), datetime.datetime(2018, 1, 3, 6, 11), Decimal('100.95'), Decimal('31.62')),\n",
       " (5, 'jill', 'COTA', Decimal('20.00'), datetime.datetime(2018, 1, 3, 6, 15), Decimal('100.95'), Decimal('31.62')),\n",
       " (6, 'jill', 'Jeni Ice Cream', Decimal('7.23'), datetime.datetime(2018, 1, 4, 15, 12), Decimal('100.95'), Decimal('31.62'))]"
      ]
     },
     "execution_count": 13,
     "metadata": {},
     "output_type": "execute_result"
    }
   ],
   "source": [
    "%%sql\n",
    "\n",
    "select \n",
    "*, \n",
    "sum(amount) over () as all_transactions_sum,\n",
    "sum(amount) over (partition by user_id) as user_sum\n",
    "from transactions\n",
    "order by transaction_id;"
   ]
  },
  {
   "cell_type": "markdown",
   "metadata": {},
   "source": [
    "We can further narrow the window by specifying a _frame_. Implicit in the above query is the default frame, which considers the entire partition. Making the frame explicit looks like:"
   ]
  },
  {
   "cell_type": "code",
   "execution_count": 14,
   "metadata": {},
   "outputs": [
    {
     "name": "stdout",
     "output_type": "stream",
     "text": [
      " * postgresql://postgres@localhost/postgres\n",
      "6 rows affected.\n"
     ]
    },
    {
     "data": {
      "text/html": [
       "<table>\n",
       "    <tr>\n",
       "        <th>transaction_id</th>\n",
       "        <th>user_id</th>\n",
       "        <th>merchant</th>\n",
       "        <th>amount</th>\n",
       "        <th>when_created</th>\n",
       "        <th>sum</th>\n",
       "    </tr>\n",
       "    <tr>\n",
       "        <td>1</td>\n",
       "        <td>jane</td>\n",
       "        <td>BP</td>\n",
       "        <td>43.22</td>\n",
       "        <td>2018-01-01 10:00:00</td>\n",
       "        <td>43.22</td>\n",
       "    </tr>\n",
       "    <tr>\n",
       "        <td>2</td>\n",
       "        <td>jane</td>\n",
       "        <td>Magic Mountain</td>\n",
       "        <td>24.11</td>\n",
       "        <td>2018-01-01 14:30:00</td>\n",
       "        <td>67.33</td>\n",
       "    </tr>\n",
       "    <tr>\n",
       "        <td>3</td>\n",
       "        <td>jane</td>\n",
       "        <td>Target</td>\n",
       "        <td>2.00</td>\n",
       "        <td>2018-01-01 10:30:00</td>\n",
       "        <td>69.33</td>\n",
       "    </tr>\n",
       "    <tr>\n",
       "        <td>4</td>\n",
       "        <td>jill</td>\n",
       "        <td>Starbucks</td>\n",
       "        <td>4.39</td>\n",
       "        <td>2018-01-03 06:11:00</td>\n",
       "        <td>4.39</td>\n",
       "    </tr>\n",
       "    <tr>\n",
       "        <td>5</td>\n",
       "        <td>jill</td>\n",
       "        <td>COTA</td>\n",
       "        <td>20.00</td>\n",
       "        <td>2018-01-03 06:15:00</td>\n",
       "        <td>24.39</td>\n",
       "    </tr>\n",
       "    <tr>\n",
       "        <td>6</td>\n",
       "        <td>jill</td>\n",
       "        <td>Jeni Ice Cream</td>\n",
       "        <td>7.23</td>\n",
       "        <td>2018-01-04 15:12:00</td>\n",
       "        <td>31.62</td>\n",
       "    </tr>\n",
       "</table>"
      ],
      "text/plain": [
       "[(1, 'jane', 'BP', Decimal('43.22'), datetime.datetime(2018, 1, 1, 10, 0), Decimal('43.22')),\n",
       " (2, 'jane', 'Magic Mountain', Decimal('24.11'), datetime.datetime(2018, 1, 1, 14, 30), Decimal('67.33')),\n",
       " (3, 'jane', 'Target', Decimal('2.00'), datetime.datetime(2018, 1, 1, 10, 30), Decimal('69.33')),\n",
       " (4, 'jill', 'Starbucks', Decimal('4.39'), datetime.datetime(2018, 1, 3, 6, 11), Decimal('4.39')),\n",
       " (5, 'jill', 'COTA', Decimal('20.00'), datetime.datetime(2018, 1, 3, 6, 15), Decimal('24.39')),\n",
       " (6, 'jill', 'Jeni Ice Cream', Decimal('7.23'), datetime.datetime(2018, 1, 4, 15, 12), Decimal('31.62'))]"
      ]
     },
     "execution_count": 14,
     "metadata": {},
     "output_type": "execute_result"
    }
   ],
   "source": [
    "%%sql\n",
    "\n",
    "select *, \n",
    "sum(amount) over (\n",
    "    partition by user_id\n",
    "    rows between unbounded preceding and current row\n",
    ")\n",
    "from transactions\n",
    "order by transaction_id;"
   ]
  },
  {
   "cell_type": "markdown",
   "metadata": {},
   "source": [
    "We can also specify ordering within the partition using ORDER BY, same as aggregations:"
   ]
  },
  {
   "cell_type": "code",
   "execution_count": 15,
   "metadata": {},
   "outputs": [
    {
     "name": "stdout",
     "output_type": "stream",
     "text": [
      " * postgresql://postgres@localhost/postgres\n",
      "6 rows affected.\n"
     ]
    },
    {
     "data": {
      "text/html": [
       "<table>\n",
       "    <tr>\n",
       "        <th>transaction_id</th>\n",
       "        <th>user_id</th>\n",
       "        <th>merchant</th>\n",
       "        <th>amount</th>\n",
       "        <th>when_created</th>\n",
       "        <th>sum</th>\n",
       "    </tr>\n",
       "    <tr>\n",
       "        <td>1</td>\n",
       "        <td>jane</td>\n",
       "        <td>BP</td>\n",
       "        <td>43.22</td>\n",
       "        <td>2018-01-01 10:00:00</td>\n",
       "        <td>43.22</td>\n",
       "    </tr>\n",
       "    <tr>\n",
       "        <td>3</td>\n",
       "        <td>jane</td>\n",
       "        <td>Target</td>\n",
       "        <td>2.00</td>\n",
       "        <td>2018-01-01 10:30:00</td>\n",
       "        <td>45.22</td>\n",
       "    </tr>\n",
       "    <tr>\n",
       "        <td>2</td>\n",
       "        <td>jane</td>\n",
       "        <td>Magic Mountain</td>\n",
       "        <td>24.11</td>\n",
       "        <td>2018-01-01 14:30:00</td>\n",
       "        <td>69.33</td>\n",
       "    </tr>\n",
       "    <tr>\n",
       "        <td>4</td>\n",
       "        <td>jill</td>\n",
       "        <td>Starbucks</td>\n",
       "        <td>4.39</td>\n",
       "        <td>2018-01-03 06:11:00</td>\n",
       "        <td>4.39</td>\n",
       "    </tr>\n",
       "    <tr>\n",
       "        <td>5</td>\n",
       "        <td>jill</td>\n",
       "        <td>COTA</td>\n",
       "        <td>20.00</td>\n",
       "        <td>2018-01-03 06:15:00</td>\n",
       "        <td>24.39</td>\n",
       "    </tr>\n",
       "    <tr>\n",
       "        <td>6</td>\n",
       "        <td>jill</td>\n",
       "        <td>Jeni Ice Cream</td>\n",
       "        <td>7.23</td>\n",
       "        <td>2018-01-04 15:12:00</td>\n",
       "        <td>31.62</td>\n",
       "    </tr>\n",
       "</table>"
      ],
      "text/plain": [
       "[(1, 'jane', 'BP', Decimal('43.22'), datetime.datetime(2018, 1, 1, 10, 0), Decimal('43.22')),\n",
       " (3, 'jane', 'Target', Decimal('2.00'), datetime.datetime(2018, 1, 1, 10, 30), Decimal('45.22')),\n",
       " (2, 'jane', 'Magic Mountain', Decimal('24.11'), datetime.datetime(2018, 1, 1, 14, 30), Decimal('69.33')),\n",
       " (4, 'jill', 'Starbucks', Decimal('4.39'), datetime.datetime(2018, 1, 3, 6, 11), Decimal('4.39')),\n",
       " (5, 'jill', 'COTA', Decimal('20.00'), datetime.datetime(2018, 1, 3, 6, 15), Decimal('24.39')),\n",
       " (6, 'jill', 'Jeni Ice Cream', Decimal('7.23'), datetime.datetime(2018, 1, 4, 15, 12), Decimal('31.62'))]"
      ]
     },
     "execution_count": 15,
     "metadata": {},
     "output_type": "execute_result"
    }
   ],
   "source": [
    "%%sql\n",
    "\n",
    "select *, \n",
    "sum(amount) over (\n",
    "    partition by user_id\n",
    "    order by when_created\n",
    "    rows between unbounded preceding and current row\n",
    ")\n",
    "from transactions;"
   ]
  },
  {
   "cell_type": "markdown",
   "metadata": {},
   "source": [
    "<br><br><br><br>\n",
    "# History tables (aka audit tables)"
   ]
  },
  {
   "cell_type": "markdown",
   "metadata": {},
   "source": [
    "Right now our transactions table and the history table contain equivalent rows because we've only had inserts:"
   ]
  },
  {
   "cell_type": "code",
   "execution_count": 16,
   "metadata": {},
   "outputs": [
    {
     "name": "stdout",
     "output_type": "stream",
     "text": [
      " * postgresql://postgres@localhost/postgres\n",
      "6 rows affected.\n"
     ]
    },
    {
     "data": {
      "text/html": [
       "<table>\n",
       "    <tr>\n",
       "        <th>transaction_id</th>\n",
       "        <th>user_id</th>\n",
       "        <th>merchant</th>\n",
       "        <th>amount</th>\n",
       "        <th>when_created</th>\n",
       "    </tr>\n",
       "    <tr>\n",
       "        <td>1</td>\n",
       "        <td>jane</td>\n",
       "        <td>BP</td>\n",
       "        <td>43.22</td>\n",
       "        <td>2018-01-01 10:00:00</td>\n",
       "    </tr>\n",
       "    <tr>\n",
       "        <td>2</td>\n",
       "        <td>jane</td>\n",
       "        <td>Magic Mountain</td>\n",
       "        <td>24.11</td>\n",
       "        <td>2018-01-01 14:30:00</td>\n",
       "    </tr>\n",
       "    <tr>\n",
       "        <td>3</td>\n",
       "        <td>jane</td>\n",
       "        <td>Target</td>\n",
       "        <td>2.00</td>\n",
       "        <td>2018-01-01 10:30:00</td>\n",
       "    </tr>\n",
       "    <tr>\n",
       "        <td>4</td>\n",
       "        <td>jill</td>\n",
       "        <td>Starbucks</td>\n",
       "        <td>4.39</td>\n",
       "        <td>2018-01-03 06:11:00</td>\n",
       "    </tr>\n",
       "    <tr>\n",
       "        <td>5</td>\n",
       "        <td>jill</td>\n",
       "        <td>COTA</td>\n",
       "        <td>20.00</td>\n",
       "        <td>2018-01-03 06:15:00</td>\n",
       "    </tr>\n",
       "    <tr>\n",
       "        <td>6</td>\n",
       "        <td>jill</td>\n",
       "        <td>Jeni Ice Cream</td>\n",
       "        <td>7.23</td>\n",
       "        <td>2018-01-04 15:12:00</td>\n",
       "    </tr>\n",
       "</table>"
      ],
      "text/plain": [
       "[(1, 'jane', 'BP', Decimal('43.22'), datetime.datetime(2018, 1, 1, 10, 0)),\n",
       " (2, 'jane', 'Magic Mountain', Decimal('24.11'), datetime.datetime(2018, 1, 1, 14, 30)),\n",
       " (3, 'jane', 'Target', Decimal('2.00'), datetime.datetime(2018, 1, 1, 10, 30)),\n",
       " (4, 'jill', 'Starbucks', Decimal('4.39'), datetime.datetime(2018, 1, 3, 6, 11)),\n",
       " (5, 'jill', 'COTA', Decimal('20.00'), datetime.datetime(2018, 1, 3, 6, 15)),\n",
       " (6, 'jill', 'Jeni Ice Cream', Decimal('7.23'), datetime.datetime(2018, 1, 4, 15, 12))]"
      ]
     },
     "execution_count": 16,
     "metadata": {},
     "output_type": "execute_result"
    }
   ],
   "source": [
    "%%sql\n",
    "\n",
    "select * from transactions\n",
    "order by transaction_id;"
   ]
  },
  {
   "cell_type": "code",
   "execution_count": 17,
   "metadata": {},
   "outputs": [
    {
     "name": "stdout",
     "output_type": "stream",
     "text": [
      " * postgresql://postgres@localhost/postgres\n",
      "6 rows affected.\n"
     ]
    },
    {
     "data": {
      "text/html": [
       "<table>\n",
       "    <tr>\n",
       "        <th>operation</th>\n",
       "        <th>when_modified</th>\n",
       "        <th>transaction_id</th>\n",
       "        <th>user_id</th>\n",
       "        <th>merchant</th>\n",
       "        <th>amount</th>\n",
       "        <th>when_created</th>\n",
       "    </tr>\n",
       "    <tr>\n",
       "        <td>insert</td>\n",
       "        <td>2018-10-25 16:52:28.392892</td>\n",
       "        <td>1</td>\n",
       "        <td>jane</td>\n",
       "        <td>BP</td>\n",
       "        <td>43.22</td>\n",
       "        <td>2018-01-01 10:00:00</td>\n",
       "    </tr>\n",
       "    <tr>\n",
       "        <td>insert</td>\n",
       "        <td>2018-10-25 16:52:28.392892</td>\n",
       "        <td>2</td>\n",
       "        <td>jane</td>\n",
       "        <td>Magic Mountain</td>\n",
       "        <td>24.11</td>\n",
       "        <td>2018-01-01 14:30:00</td>\n",
       "    </tr>\n",
       "    <tr>\n",
       "        <td>insert</td>\n",
       "        <td>2018-10-25 16:52:28.392892</td>\n",
       "        <td>3</td>\n",
       "        <td>jane</td>\n",
       "        <td>Target</td>\n",
       "        <td>2.00</td>\n",
       "        <td>2018-01-01 10:30:00</td>\n",
       "    </tr>\n",
       "    <tr>\n",
       "        <td>insert</td>\n",
       "        <td>2018-10-25 16:52:28.392892</td>\n",
       "        <td>4</td>\n",
       "        <td>jill</td>\n",
       "        <td>Starbucks</td>\n",
       "        <td>4.39</td>\n",
       "        <td>2018-01-03 06:11:00</td>\n",
       "    </tr>\n",
       "    <tr>\n",
       "        <td>insert</td>\n",
       "        <td>2018-10-25 16:52:28.392892</td>\n",
       "        <td>5</td>\n",
       "        <td>jill</td>\n",
       "        <td>COTA</td>\n",
       "        <td>20.00</td>\n",
       "        <td>2018-01-03 06:15:00</td>\n",
       "    </tr>\n",
       "    <tr>\n",
       "        <td>insert</td>\n",
       "        <td>2018-10-25 16:52:28.392892</td>\n",
       "        <td>6</td>\n",
       "        <td>jill</td>\n",
       "        <td>Jeni Ice Cream</td>\n",
       "        <td>7.23</td>\n",
       "        <td>2018-01-04 15:12:00</td>\n",
       "    </tr>\n",
       "</table>"
      ],
      "text/plain": [
       "[('insert', datetime.datetime(2018, 10, 25, 16, 52, 28, 392892), 1, 'jane', 'BP', Decimal('43.22'), datetime.datetime(2018, 1, 1, 10, 0)),\n",
       " ('insert', datetime.datetime(2018, 10, 25, 16, 52, 28, 392892), 2, 'jane', 'Magic Mountain', Decimal('24.11'), datetime.datetime(2018, 1, 1, 14, 30)),\n",
       " ('insert', datetime.datetime(2018, 10, 25, 16, 52, 28, 392892), 3, 'jane', 'Target', Decimal('2.00'), datetime.datetime(2018, 1, 1, 10, 30)),\n",
       " ('insert', datetime.datetime(2018, 10, 25, 16, 52, 28, 392892), 4, 'jill', 'Starbucks', Decimal('4.39'), datetime.datetime(2018, 1, 3, 6, 11)),\n",
       " ('insert', datetime.datetime(2018, 10, 25, 16, 52, 28, 392892), 5, 'jill', 'COTA', Decimal('20.00'), datetime.datetime(2018, 1, 3, 6, 15)),\n",
       " ('insert', datetime.datetime(2018, 10, 25, 16, 52, 28, 392892), 6, 'jill', 'Jeni Ice Cream', Decimal('7.23'), datetime.datetime(2018, 1, 4, 15, 12))]"
      ]
     },
     "execution_count": 17,
     "metadata": {},
     "output_type": "execute_result"
    }
   ],
   "source": [
    "%%sql\n",
    "\n",
    "select * from transactions_history;"
   ]
  },
  {
   "cell_type": "markdown",
   "metadata": {},
   "source": [
    "Let's mutate the table and then check how the tables change."
   ]
  },
  {
   "cell_type": "code",
   "execution_count": 18,
   "metadata": {},
   "outputs": [
    {
     "name": "stdout",
     "output_type": "stream",
     "text": [
      " * postgresql://postgres@localhost/postgres\n",
      "1 rows affected.\n",
      "1 rows affected.\n",
      "1 rows affected.\n"
     ]
    },
    {
     "data": {
      "text/plain": [
       "[]"
      ]
     },
     "execution_count": 18,
     "metadata": {},
     "output_type": "execute_result"
    }
   ],
   "source": [
    "%%sql\n",
    "\n",
    "update transactions set amount = 5.39 where transaction_id = 4;\n",
    "update transactions set amount = 3.39 where transaction_id = 4;\n",
    "delete from transactions where transaction_id = 5;"
   ]
  },
  {
   "cell_type": "code",
   "execution_count": 21,
   "metadata": {},
   "outputs": [
    {
     "name": "stdout",
     "output_type": "stream",
     "text": [
      " * postgresql://postgres@localhost/postgres\n",
      "5 rows affected.\n"
     ]
    },
    {
     "data": {
      "text/html": [
       "<table>\n",
       "    <tr>\n",
       "        <th>transaction_id</th>\n",
       "        <th>user_id</th>\n",
       "        <th>merchant</th>\n",
       "        <th>amount</th>\n",
       "        <th>when_created</th>\n",
       "    </tr>\n",
       "    <tr>\n",
       "        <td>1</td>\n",
       "        <td>jane</td>\n",
       "        <td>BP</td>\n",
       "        <td>43.22</td>\n",
       "        <td>2018-01-01 10:00:00</td>\n",
       "    </tr>\n",
       "    <tr>\n",
       "        <td>2</td>\n",
       "        <td>jane</td>\n",
       "        <td>Magic Mountain</td>\n",
       "        <td>24.11</td>\n",
       "        <td>2018-01-01 14:30:00</td>\n",
       "    </tr>\n",
       "    <tr>\n",
       "        <td>3</td>\n",
       "        <td>jane</td>\n",
       "        <td>Target</td>\n",
       "        <td>2.00</td>\n",
       "        <td>2018-01-01 10:30:00</td>\n",
       "    </tr>\n",
       "    <tr>\n",
       "        <td>4</td>\n",
       "        <td>jill</td>\n",
       "        <td>Starbucks</td>\n",
       "        <td>3.39</td>\n",
       "        <td>2018-01-03 06:11:00</td>\n",
       "    </tr>\n",
       "    <tr>\n",
       "        <td>6</td>\n",
       "        <td>jill</td>\n",
       "        <td>Jeni Ice Cream</td>\n",
       "        <td>7.23</td>\n",
       "        <td>2018-01-04 15:12:00</td>\n",
       "    </tr>\n",
       "</table>"
      ],
      "text/plain": [
       "[(1, 'jane', 'BP', Decimal('43.22'), datetime.datetime(2018, 1, 1, 10, 0)),\n",
       " (2, 'jane', 'Magic Mountain', Decimal('24.11'), datetime.datetime(2018, 1, 1, 14, 30)),\n",
       " (3, 'jane', 'Target', Decimal('2.00'), datetime.datetime(2018, 1, 1, 10, 30)),\n",
       " (4, 'jill', 'Starbucks', Decimal('3.39'), datetime.datetime(2018, 1, 3, 6, 11)),\n",
       " (6, 'jill', 'Jeni Ice Cream', Decimal('7.23'), datetime.datetime(2018, 1, 4, 15, 12))]"
      ]
     },
     "execution_count": 21,
     "metadata": {},
     "output_type": "execute_result"
    }
   ],
   "source": [
    "%%sql\n",
    "\n",
    "select * from transactions\n",
    "order by transaction_id;"
   ]
  },
  {
   "cell_type": "code",
   "execution_count": 22,
   "metadata": {},
   "outputs": [
    {
     "name": "stdout",
     "output_type": "stream",
     "text": [
      " * postgresql://postgres@localhost/postgres\n",
      "9 rows affected.\n"
     ]
    },
    {
     "data": {
      "text/html": [
       "<table>\n",
       "    <tr>\n",
       "        <th>operation</th>\n",
       "        <th>when_modified</th>\n",
       "        <th>transaction_id</th>\n",
       "        <th>user_id</th>\n",
       "        <th>merchant</th>\n",
       "        <th>amount</th>\n",
       "        <th>when_created</th>\n",
       "    </tr>\n",
       "    <tr>\n",
       "        <td>insert</td>\n",
       "        <td>2018-10-25 16:52:28.392892</td>\n",
       "        <td>1</td>\n",
       "        <td>jane</td>\n",
       "        <td>BP</td>\n",
       "        <td>43.22</td>\n",
       "        <td>2018-01-01 10:00:00</td>\n",
       "    </tr>\n",
       "    <tr>\n",
       "        <td>insert</td>\n",
       "        <td>2018-10-25 16:52:28.392892</td>\n",
       "        <td>2</td>\n",
       "        <td>jane</td>\n",
       "        <td>Magic Mountain</td>\n",
       "        <td>24.11</td>\n",
       "        <td>2018-01-01 14:30:00</td>\n",
       "    </tr>\n",
       "    <tr>\n",
       "        <td>insert</td>\n",
       "        <td>2018-10-25 16:52:28.392892</td>\n",
       "        <td>3</td>\n",
       "        <td>jane</td>\n",
       "        <td>Target</td>\n",
       "        <td>2.00</td>\n",
       "        <td>2018-01-01 10:30:00</td>\n",
       "    </tr>\n",
       "    <tr>\n",
       "        <td>insert</td>\n",
       "        <td>2018-10-25 16:52:28.392892</td>\n",
       "        <td>4</td>\n",
       "        <td>jill</td>\n",
       "        <td>Starbucks</td>\n",
       "        <td>4.39</td>\n",
       "        <td>2018-01-03 06:11:00</td>\n",
       "    </tr>\n",
       "    <tr>\n",
       "        <td>insert</td>\n",
       "        <td>2018-10-25 16:52:28.392892</td>\n",
       "        <td>5</td>\n",
       "        <td>jill</td>\n",
       "        <td>COTA</td>\n",
       "        <td>20.00</td>\n",
       "        <td>2018-01-03 06:15:00</td>\n",
       "    </tr>\n",
       "    <tr>\n",
       "        <td>insert</td>\n",
       "        <td>2018-10-25 16:52:28.392892</td>\n",
       "        <td>6</td>\n",
       "        <td>jill</td>\n",
       "        <td>Jeni Ice Cream</td>\n",
       "        <td>7.23</td>\n",
       "        <td>2018-01-04 15:12:00</td>\n",
       "    </tr>\n",
       "    <tr>\n",
       "        <td>update</td>\n",
       "        <td>2018-10-25 16:55:41.376200</td>\n",
       "        <td>4</td>\n",
       "        <td>jill</td>\n",
       "        <td>Starbucks</td>\n",
       "        <td>5.39</td>\n",
       "        <td>2018-01-03 06:11:00</td>\n",
       "    </tr>\n",
       "    <tr>\n",
       "        <td>update</td>\n",
       "        <td>2018-10-25 16:55:41.384644</td>\n",
       "        <td>4</td>\n",
       "        <td>jill</td>\n",
       "        <td>Starbucks</td>\n",
       "        <td>3.39</td>\n",
       "        <td>2018-01-03 06:11:00</td>\n",
       "    </tr>\n",
       "    <tr>\n",
       "        <td>delete</td>\n",
       "        <td>2018-10-25 16:55:41.388490</td>\n",
       "        <td>5</td>\n",
       "        <td>jill</td>\n",
       "        <td>COTA</td>\n",
       "        <td>20.00</td>\n",
       "        <td>2018-01-03 06:15:00</td>\n",
       "    </tr>\n",
       "</table>"
      ],
      "text/plain": [
       "[('insert', datetime.datetime(2018, 10, 25, 16, 52, 28, 392892), 1, 'jane', 'BP', Decimal('43.22'), datetime.datetime(2018, 1, 1, 10, 0)),\n",
       " ('insert', datetime.datetime(2018, 10, 25, 16, 52, 28, 392892), 2, 'jane', 'Magic Mountain', Decimal('24.11'), datetime.datetime(2018, 1, 1, 14, 30)),\n",
       " ('insert', datetime.datetime(2018, 10, 25, 16, 52, 28, 392892), 3, 'jane', 'Target', Decimal('2.00'), datetime.datetime(2018, 1, 1, 10, 30)),\n",
       " ('insert', datetime.datetime(2018, 10, 25, 16, 52, 28, 392892), 4, 'jill', 'Starbucks', Decimal('4.39'), datetime.datetime(2018, 1, 3, 6, 11)),\n",
       " ('insert', datetime.datetime(2018, 10, 25, 16, 52, 28, 392892), 5, 'jill', 'COTA', Decimal('20.00'), datetime.datetime(2018, 1, 3, 6, 15)),\n",
       " ('insert', datetime.datetime(2018, 10, 25, 16, 52, 28, 392892), 6, 'jill', 'Jeni Ice Cream', Decimal('7.23'), datetime.datetime(2018, 1, 4, 15, 12)),\n",
       " ('update', datetime.datetime(2018, 10, 25, 16, 55, 41, 376200), 4, 'jill', 'Starbucks', Decimal('5.39'), datetime.datetime(2018, 1, 3, 6, 11)),\n",
       " ('update', datetime.datetime(2018, 10, 25, 16, 55, 41, 384644), 4, 'jill', 'Starbucks', Decimal('3.39'), datetime.datetime(2018, 1, 3, 6, 11)),\n",
       " ('delete', datetime.datetime(2018, 10, 25, 16, 55, 41, 388490), 5, 'jill', 'COTA', Decimal('20.00'), datetime.datetime(2018, 1, 3, 6, 15))]"
      ]
     },
     "execution_count": 22,
     "metadata": {},
     "output_type": "execute_result"
    }
   ],
   "source": [
    "%%sql\n",
    "\n",
    "select * from transactions_history;"
   ]
  },
  {
   "cell_type": "markdown",
   "metadata": {},
   "source": [
    "<br><br><br><br>\n",
    "# Recreating current state from the history table"
   ]
  },
  {
   "cell_type": "markdown",
   "metadata": {},
   "source": [
    "Now, imagine that we don't have access to the `transactions` table. Let's think through together how we could use our new knowledge of window functions to construct a query over `transactions_history` that recreates the current state of `transactions`."
   ]
  },
  {
   "cell_type": "code",
   "execution_count": 23,
   "metadata": {
    "scrolled": true
   },
   "outputs": [
    {
     "name": "stdout",
     "output_type": "stream",
     "text": [
      " * postgresql://postgres@localhost/postgres\n",
      "5 rows affected.\n"
     ]
    },
    {
     "data": {
      "text/html": [
       "<table>\n",
       "    <tr>\n",
       "        <th>operation</th>\n",
       "        <th>when_modified</th>\n",
       "        <th>transaction_id</th>\n",
       "        <th>user_id</th>\n",
       "        <th>merchant</th>\n",
       "        <th>amount</th>\n",
       "        <th>when_created</th>\n",
       "        <th>n</th>\n",
       "    </tr>\n",
       "    <tr>\n",
       "        <td>insert</td>\n",
       "        <td>2018-10-25 16:52:28.392892</td>\n",
       "        <td>1</td>\n",
       "        <td>jane</td>\n",
       "        <td>BP</td>\n",
       "        <td>43.22</td>\n",
       "        <td>2018-01-01 10:00:00</td>\n",
       "        <td>1</td>\n",
       "    </tr>\n",
       "    <tr>\n",
       "        <td>insert</td>\n",
       "        <td>2018-10-25 16:52:28.392892</td>\n",
       "        <td>2</td>\n",
       "        <td>jane</td>\n",
       "        <td>Magic Mountain</td>\n",
       "        <td>24.11</td>\n",
       "        <td>2018-01-01 14:30:00</td>\n",
       "        <td>1</td>\n",
       "    </tr>\n",
       "    <tr>\n",
       "        <td>insert</td>\n",
       "        <td>2018-10-25 16:52:28.392892</td>\n",
       "        <td>3</td>\n",
       "        <td>jane</td>\n",
       "        <td>Target</td>\n",
       "        <td>2.00</td>\n",
       "        <td>2018-01-01 10:30:00</td>\n",
       "        <td>1</td>\n",
       "    </tr>\n",
       "    <tr>\n",
       "        <td>update</td>\n",
       "        <td>2018-10-25 16:55:41.384644</td>\n",
       "        <td>4</td>\n",
       "        <td>jill</td>\n",
       "        <td>Starbucks</td>\n",
       "        <td>3.39</td>\n",
       "        <td>2018-01-03 06:11:00</td>\n",
       "        <td>1</td>\n",
       "    </tr>\n",
       "    <tr>\n",
       "        <td>insert</td>\n",
       "        <td>2018-10-25 16:52:28.392892</td>\n",
       "        <td>6</td>\n",
       "        <td>jill</td>\n",
       "        <td>Jeni Ice Cream</td>\n",
       "        <td>7.23</td>\n",
       "        <td>2018-01-04 15:12:00</td>\n",
       "        <td>1</td>\n",
       "    </tr>\n",
       "</table>"
      ],
      "text/plain": [
       "[('insert', datetime.datetime(2018, 10, 25, 16, 52, 28, 392892), 1, 'jane', 'BP', Decimal('43.22'), datetime.datetime(2018, 1, 1, 10, 0), 1),\n",
       " ('insert', datetime.datetime(2018, 10, 25, 16, 52, 28, 392892), 2, 'jane', 'Magic Mountain', Decimal('24.11'), datetime.datetime(2018, 1, 1, 14, 30), 1),\n",
       " ('insert', datetime.datetime(2018, 10, 25, 16, 52, 28, 392892), 3, 'jane', 'Target', Decimal('2.00'), datetime.datetime(2018, 1, 1, 10, 30), 1),\n",
       " ('update', datetime.datetime(2018, 10, 25, 16, 55, 41, 384644), 4, 'jill', 'Starbucks', Decimal('3.39'), datetime.datetime(2018, 1, 3, 6, 11), 1),\n",
       " ('insert', datetime.datetime(2018, 10, 25, 16, 52, 28, 392892), 6, 'jill', 'Jeni Ice Cream', Decimal('7.23'), datetime.datetime(2018, 1, 4, 15, 12), 1)]"
      ]
     },
     "execution_count": 23,
     "metadata": {},
     "output_type": "execute_result"
    }
   ],
   "source": [
    "%%sql\n",
    "\n",
    "select * from\n",
    "(\n",
    "    select *,\n",
    "    row_number() over (\n",
    "        partition by transaction_id \n",
    "        order by when_modified desc\n",
    "    ) as n\n",
    "    from transactions_history\n",
    ") as subquery\n",
    "where n = 1\n",
    "and operation != 'delete'"
   ]
  },
  {
   "cell_type": "markdown",
   "metadata": {},
   "source": [
    "<br><br><br><br>\n",
    "# Dumping Postgres schema and data"
   ]
  },
  {
   "cell_type": "markdown",
   "metadata": {},
   "source": [
    "Export the transactions_history table using PostgreSQL's `pg_dump` shell utility. We will be able to replay this into Redshift.\n",
    "\n",
    "```\n",
    "PGUSER=postgres PGPASSWORD=mysecretpassword pg_dump \\\n",
    "  --host localhost\n",
    "  --port 5432\n",
    "  --dbname postgres \\\n",
    "  --table transactions_history \\\n",
    "  --column-inserts \\\n",
    "  > dumpfile.sql\n",
    "```"
   ]
  }
 ],
 "metadata": {
  "kernelspec": {
   "display_name": "Python 3",
   "language": "python",
   "name": "python3"
  },
  "language_info": {
   "codemirror_mode": {
    "name": "ipython",
    "version": 3
   },
   "file_extension": ".py",
   "mimetype": "text/x-python",
   "name": "python",
   "nbconvert_exporter": "python",
   "pygments_lexer": "ipython3",
   "version": "3.7.0"
  }
 },
 "nbformat": 4,
 "nbformat_minor": 2
}
